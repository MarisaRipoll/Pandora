{
 "cells": [
  {
   "cell_type": "code",
   "execution_count": 15,
   "metadata": {
    "scrolled": true
   },
   "outputs": [
    {
     "data": {
      "text/plain": [
       "\"\\nprint('len(data[0][context]):  ', len(data[0]['context']))\\nprint('data[0][context][0]:  ', data[0]['context'][9])\\nprint('len(data[0][question]):  ', len(data[0]['question']))\\n\""
      ]
     },
     "execution_count": 15,
     "metadata": {},
     "output_type": "execute_result"
    }
   ],
   "source": [
    "from src.datasets import BaseDataset\n",
    "from pathlib import Path\n",
    "import json\n",
    "\n",
    "def read_file(filename):\n",
    "    data = json.load(open(filename, 'r'))\n",
    "    contexts = []\n",
    "    questions = []\n",
    "    answers = []\n",
    "    \n",
    "    for datapoint in data:\n",
    "        print('data[_id]: ', data['_id'])\n",
    "        print('len(data[_id]): ', len(data['_id']))\n",
    "\n",
    "\"\"\"\n",
    "print('len(data[0][context]):  ', len(data[0]['context']))\n",
    "print('data[0][context][0]:  ', data[0]['context'][9])\n",
    "print('len(data[0][question]):  ', len(data[0]['question']))\n",
    "\"\"\""
   ]
  },
  {
   "cell_type": "code",
   "execution_count": null,
   "metadata": {},
   "outputs": [],
   "source": [
    "filename = 'data/partial_data_100samples.json'\n",
    "read_file(filename)"
   ]
  }
 ],
 "metadata": {
  "kernelspec": {
   "display_name": "Python 3",
   "language": "python",
   "name": "python3"
  },
  "language_info": {
   "codemirror_mode": {
    "name": "ipython",
    "version": 3
   },
   "file_extension": ".py",
   "mimetype": "text/x-python",
   "name": "python",
   "nbconvert_exporter": "python",
   "pygments_lexer": "ipython3",
   "version": "3.7.9"
  }
 },
 "nbformat": 4,
 "nbformat_minor": 4
}
