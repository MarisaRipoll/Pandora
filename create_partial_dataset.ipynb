{
 "cells": [
  {
   "cell_type": "code",
   "execution_count": 1,
   "metadata": {},
   "outputs": [],
   "source": [
    "from sklearn.model_selection import train_test_split\n",
    "import json\n",
    "\n",
    "def create_sub_file(filename, num_samples):\n",
    "    data = json.load(open(filename, 'r'))\n",
    "    new_size = num_samples/len(data)\n",
    "    print(f'len(data): {len(data)}, new_size: {new_size}')\n",
    "    _, new_data = train_test_split(data, test_size=new_size)\n",
    "    \n",
    "    with open(f'partial_data_{num_samples}samples.json', 'w') as jsonFile:\n",
    "        json.dump(new_data, jsonFile)\n",
    "    "
   ]
  },
  {
   "cell_type": "code",
   "execution_count": 2,
   "metadata": {},
   "outputs": [
    {
     "name": "stdout",
     "output_type": "stream",
     "text": [
      "C:\\Users\\maris\\OneDrive\\Escritorio\\Pandora\\data\n",
      "len(data): 90447, new_size: 0.0011056198657777483\n"
     ]
    }
   ],
   "source": [
    "%cd data\n",
    "create_sub_file('hotpot_train_v1.1.json', 100)"
   ]
  }
 ],
 "metadata": {
  "kernelspec": {
   "display_name": "Python 3",
   "language": "python",
   "name": "python3"
  },
  "language_info": {
   "codemirror_mode": {
    "name": "ipython",
    "version": 3
   },
   "file_extension": ".py",
   "mimetype": "text/x-python",
   "name": "python",
   "nbconvert_exporter": "python",
   "pygments_lexer": "ipython3",
   "version": "3.7.9"
  }
 },
 "nbformat": 4,
 "nbformat_minor": 4
}
