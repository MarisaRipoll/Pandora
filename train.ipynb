{
 "cells": [
  {
   "cell_type": "code",
   "execution_count": 1,
   "metadata": {
    "scrolled": true
   },
   "outputs": [],
   "source": [
    "from sklearn.model_selection import train_test_split\n",
    "from src.datasets import BaseDataset\n",
    "from pathlib import Path\n",
    "import json\n",
    "\n",
    "def read_file(data):\n",
    "    ids = []\n",
    "    contexts = []\n",
    "    questions = []\n",
    "    answers = []\n",
    "    \n",
    "    for datapoint in data:\n",
    "        ids.append(datapoint[\"_id\"])\n",
    "        questions.append(datapoint[\"question\"])\n",
    "        answers.append(datapoint[\"answer\"])\n",
    "        datapoint_context = []\n",
    "        for title in datapoint[\"context\"]:\n",
    "            for paragraph in title[1]:\n",
    "                datapoint_context.append(paragraph)\n",
    "        contexts.append(datapoint_context)\n",
    "        #print(datapoint[\"question\"])\n",
    "        #print(datapoint[\"answer\"])\n",
    "        #print('\\n\\n')\n",
    "    return contexts, questions, answers"
   ]
  },
  {
   "cell_type": "code",
   "execution_count": 2,
   "metadata": {},
   "outputs": [],
   "source": [
    "filename = 'data/partial_data_100samples.json'\n",
    "data = json.load(open(filename, 'r'))\n",
    "#print(f'len(data): {len(data)}')\n",
    "train_data, val_data = train_test_split(data, test_size = 0.2)\n",
    "train_contexts, train_questions, train_answers = read_file(train_data)\n",
    "val_contexts, val_questions, val_answers = read_file(val_data)\n",
    "#print(f'len(train_data): {len(train_data)}')\n",
    "#print(f'len(val_data): {len(val_data)}')"
   ]
  },
  {
   "cell_type": "code",
   "execution_count": 3,
   "metadata": {},
   "outputs": [
    {
     "ename": "ImportError",
     "evalue": "cannot import name 'LongformerForQuestionAnswering' from 'transformers' (C:\\Users\\maris\\anaconda3\\envs\\NLP_Project\\lib\\site-packages\\transformers\\__init__.py)",
     "output_type": "error",
     "traceback": [
      "\u001b[1;31m---------------------------------------------------------------------------\u001b[0m",
      "\u001b[1;31mImportError\u001b[0m                               Traceback (most recent call last)",
      "\u001b[1;32m<ipython-input-3-7832eb04881b>\u001b[0m in \u001b[0;36m<module>\u001b[1;34m\u001b[0m\n\u001b[1;32m----> 1\u001b[1;33m \u001b[1;32mfrom\u001b[0m \u001b[0mtransformers\u001b[0m \u001b[1;32mimport\u001b[0m \u001b[0mLongformerForQuestionAnswering\u001b[0m\u001b[1;33m\u001b[0m\u001b[1;33m\u001b[0m\u001b[0m\n\u001b[0m\u001b[0;32m      2\u001b[0m \u001b[1;32mfrom\u001b[0m \u001b[0mtransformers\u001b[0m \u001b[1;32mimport\u001b[0m \u001b[0mLongformerTokenizer\u001b[0m\u001b[1;33m\u001b[0m\u001b[1;33m\u001b[0m\u001b[0m\n",
      "\u001b[1;31mImportError\u001b[0m: cannot import name 'LongformerForQuestionAnswering' from 'transformers' (C:\\Users\\maris\\anaconda3\\envs\\NLP_Project\\lib\\site-packages\\transformers\\__init__.py)"
     ]
    }
   ],
   "source": [
    "from transformers import LongformerForQuestionAnswering\n",
    "from transformers import LongformerTokenizer"
   ]
  },
  {
   "cell_type": "code",
   "execution_count": null,
   "metadata": {
    "scrolled": true
   },
   "outputs": [],
   "source": [
    "tokenizer = LongformerTokenizer.from_pretrained('allenai/longformer-base-4096')\n",
    "\n",
    "train_encodings = tokenizer(train_contexts, train_questions, truncation=True, padding=True)\n",
    "val_encodings = tokenizer(val_contexts, val_questions, truncation=True, padding=True)\n"
   ]
  }
 ],
 "metadata": {
  "kernelspec": {
   "display_name": "Python 3",
   "language": "python",
   "name": "python3"
  },
  "language_info": {
   "codemirror_mode": {
    "name": "ipython",
    "version": 3
   },
   "file_extension": ".py",
   "mimetype": "text/x-python",
   "name": "python",
   "nbconvert_exporter": "python",
   "pygments_lexer": "ipython3",
   "version": "3.7.9"
  }
 },
 "nbformat": 4,
 "nbformat_minor": 4
}
